{
 "cells": [
  {
   "cell_type": "markdown",
   "metadata": {},
   "source": [
    "# Assignment 1"
   ]
  },
  {
   "cell_type": "code",
   "execution_count": 2,
   "metadata": {},
   "outputs": [],
   "source": [
    "import pandas as pd\n",
    "import numpy as np\n",
    "from haversine import haversine\n",
    "from pulp import *\n",
    "import matplotlib.pyplot as plt"
   ]
  },
  {
   "cell_type": "markdown",
   "metadata": {},
   "source": [
    "### Discription\n",
    "- 130 supermarkten\n",
    "- Minimize travel distance of the account managers\n",
    "- Account manager can drive a maximum of 400 kilometers a day\n",
    "- To calculate the haversine formula to measure the distance\n",
    "    - This can be done using the haversine module in python \n",
    "\n",
    "### Load data\n",
    "Loading the data and converting the latitude and longtitude values to floats."
   ]
  },
  {
   "cell_type": "code",
   "execution_count": 3,
   "metadata": {},
   "outputs": [],
   "source": [
    "stores = pd.ExcelFile(\"Data Excercise 1 - EMTE stores - BA 2018.xlsx\", sheetname=\"Sheet1\").parse()\n",
    "stores['Lat'] = stores['Lat'].astype('float')\n",
    "stores['Long'] = stores['Long'].astype('float')"
   ]
  },
  {
   "cell_type": "code",
   "execution_count": 4,
   "metadata": {},
   "outputs": [
    {
     "data": {
      "text/html": [
       "<div>\n",
       "<style scoped>\n",
       "    .dataframe tbody tr th:only-of-type {\n",
       "        vertical-align: middle;\n",
       "    }\n",
       "\n",
       "    .dataframe tbody tr th {\n",
       "        vertical-align: top;\n",
       "    }\n",
       "\n",
       "    .dataframe thead th {\n",
       "        text-align: right;\n",
       "    }\n",
       "</style>\n",
       "<table border=\"1\" class=\"dataframe\">\n",
       "  <thead>\n",
       "    <tr style=\"text-align: right;\">\n",
       "      <th></th>\n",
       "      <th>Nr.</th>\n",
       "      <th>Name</th>\n",
       "      <th>Address</th>\n",
       "      <th>Postal code</th>\n",
       "      <th>City</th>\n",
       "      <th>Lat</th>\n",
       "      <th>Long</th>\n",
       "    </tr>\n",
       "  </thead>\n",
       "  <tbody>\n",
       "    <tr>\n",
       "      <th>0</th>\n",
       "      <td>0</td>\n",
       "      <td>EMTE HEADQUARTERS VEGHEL</td>\n",
       "      <td>CORRIDOR 11</td>\n",
       "      <td>5466RB</td>\n",
       "      <td>VEGHEL</td>\n",
       "      <td>51.606702</td>\n",
       "      <td>5.528046</td>\n",
       "    </tr>\n",
       "    <tr>\n",
       "      <th>1</th>\n",
       "      <td>1</td>\n",
       "      <td>EMTE ARKEL</td>\n",
       "      <td>DR H DE VRIESPLN 14</td>\n",
       "      <td>4241BW</td>\n",
       "      <td>ARKEL</td>\n",
       "      <td>51.864000</td>\n",
       "      <td>4.993040</td>\n",
       "    </tr>\n",
       "    <tr>\n",
       "      <th>2</th>\n",
       "      <td>2</td>\n",
       "      <td>EMTE ARNEMUIDEN FR</td>\n",
       "      <td>CLASINASTR 5</td>\n",
       "      <td>4341ER</td>\n",
       "      <td>ARNEMUIDEN</td>\n",
       "      <td>51.500010</td>\n",
       "      <td>3.677280</td>\n",
       "    </tr>\n",
       "    <tr>\n",
       "      <th>3</th>\n",
       "      <td>3</td>\n",
       "      <td>EMTE BATHMEN FR</td>\n",
       "      <td>LARENSEWG 18</td>\n",
       "      <td>7437BM</td>\n",
       "      <td>BATHMEN</td>\n",
       "      <td>52.249060</td>\n",
       "      <td>6.289990</td>\n",
       "    </tr>\n",
       "    <tr>\n",
       "      <th>4</th>\n",
       "      <td>4</td>\n",
       "      <td>EMTE BEEK EN DONK</td>\n",
       "      <td>HEUVELPLN 73</td>\n",
       "      <td>5741JJ</td>\n",
       "      <td>BEEK EN DONK</td>\n",
       "      <td>51.529300</td>\n",
       "      <td>5.632300</td>\n",
       "    </tr>\n",
       "  </tbody>\n",
       "</table>\n",
       "</div>"
      ],
      "text/plain": [
       "   Nr.                       Name              Address Postal code  \\\n",
       "0     0  EMTE HEADQUARTERS VEGHEL          CORRIDOR 11      5466RB   \n",
       "1     1                EMTE ARKEL  DR H DE VRIESPLN 14      4241BW   \n",
       "2     2        EMTE ARNEMUIDEN FR         CLASINASTR 5      4341ER   \n",
       "3     3           EMTE BATHMEN FR         LARENSEWG 18      7437BM   \n",
       "4     4         EMTE BEEK EN DONK         HEUVELPLN 73      5741JJ   \n",
       "\n",
       "           City        Lat      Long  \n",
       "0        VEGHEL  51.606702  5.528046  \n",
       "1         ARKEL  51.864000  4.993040  \n",
       "2    ARNEMUIDEN  51.500010  3.677280  \n",
       "3       BATHMEN  52.249060  6.289990  \n",
       "4  BEEK EN DONK  51.529300  5.632300  "
      ]
     },
     "execution_count": 4,
     "metadata": {},
     "output_type": "execute_result"
    }
   ],
   "source": [
    "stores.head()"
   ]
  },
  {
   "cell_type": "code",
   "execution_count": 5,
   "metadata": {},
   "outputs": [
    {
     "data": {
      "image/png": "[encoded data removed]",
      "text/plain": [
       "<matplotlib.figure.Figure at 0x1af39c5a940>"
      ]
     },
     "metadata": {},
     "output_type": "display_data"
    }
   ],
   "source": [
    "plt.scatter(stores['Lat'], stores['Long'])\n",
    "plt.show()"
   ]
  },
  {
   "cell_type": "markdown",
   "metadata": {},
   "source": [
    "### Create distance matrix"
   ]
  },
  {
   "cell_type": "code",
   "execution_count": 6,
   "metadata": {
    "scrolled": true
   },
   "outputs": [],
   "source": [
    "distance = np.empty((134,134))\n",
    "for i in range(len(stores.as_matrix())):\n",
    "    for j in range(len(stores.as_matrix())):\n",
    "        distance[i,j] = haversine(stores.as_matrix()[i][-2:], stores.as_matrix()[j][-2:])     "
   ]
  },
  {
   "cell_type": "code",
   "execution_count": 7,
   "metadata": {},
   "outputs": [
    {
     "data": {
      "text/html": [
       "<div>\n",
       "<style scoped>\n",
       "    .dataframe tbody tr th:only-of-type {\n",
       "        vertical-align: middle;\n",
       "    }\n",
       "\n",
       "    .dataframe tbody tr th {\n",
       "        vertical-align: top;\n",
       "    }\n",
       "\n",
       "    .dataframe thead th {\n",
       "        text-align: right;\n",
       "    }\n",
       "</style>\n",
       "<table border=\"1\" class=\"dataframe\">\n",
       "  <thead>\n",
       "    <tr style=\"text-align: right;\">\n",
       "      <th></th>\n",
       "      <th>0</th>\n",
       "      <th>1</th>\n",
       "      <th>2</th>\n",
       "      <th>3</th>\n",
       "      <th>4</th>\n",
       "      <th>5</th>\n",
       "      <th>6</th>\n",
       "      <th>7</th>\n",
       "      <th>8</th>\n",
       "      <th>9</th>\n",
       "      <th>...</th>\n",
       "      <th>124</th>\n",
       "      <th>125</th>\n",
       "      <th>126</th>\n",
       "      <th>127</th>\n",
       "      <th>128</th>\n",
       "      <th>129</th>\n",
       "      <th>130</th>\n",
       "      <th>131</th>\n",
       "      <th>132</th>\n",
       "      <th>133</th>\n",
       "    </tr>\n",
       "  </thead>\n",
       "  <tbody>\n",
       "    <tr>\n",
       "      <th>0</th>\n",
       "      <td>0.000000</td>\n",
       "      <td>46.645956</td>\n",
       "      <td>128.506126</td>\n",
       "      <td>88.494106</td>\n",
       "      <td>11.224886</td>\n",
       "      <td>12.042604</td>\n",
       "      <td>41.359815</td>\n",
       "      <td>88.980637</td>\n",
       "      <td>29.442647</td>\n",
       "      <td>36.761357</td>\n",
       "      <td>...</td>\n",
       "      <td>137.626826</td>\n",
       "      <td>23.511761</td>\n",
       "      <td>178.137015</td>\n",
       "      <td>117.031212</td>\n",
       "      <td>17.422608</td>\n",
       "      <td>32.633058</td>\n",
       "      <td>57.710789</td>\n",
       "      <td>26.358037</td>\n",
       "      <td>32.099404</td>\n",
       "      <td>142.137114</td>\n",
       "    </tr>\n",
       "    <tr>\n",
       "      <th>1</th>\n",
       "      <td>46.645956</td>\n",
       "      <td>0.000000</td>\n",
       "      <td>99.331062</td>\n",
       "      <td>98.468991</td>\n",
       "      <td>57.673426</td>\n",
       "      <td>34.648145</td>\n",
       "      <td>22.629025</td>\n",
       "      <td>108.643607</td>\n",
       "      <td>70.177933</td>\n",
       "      <td>9.884984</td>\n",
       "      <td>...</td>\n",
       "      <td>108.963877</td>\n",
       "      <td>24.330927</td>\n",
       "      <td>172.152042</td>\n",
       "      <td>127.132898</td>\n",
       "      <td>31.480083</td>\n",
       "      <td>20.026504</td>\n",
       "      <td>56.742367</td>\n",
       "      <td>50.641924</td>\n",
       "      <td>15.250641</td>\n",
       "      <td>111.849337</td>\n",
       "    </tr>\n",
       "    <tr>\n",
       "      <th>2</th>\n",
       "      <td>128.506126</td>\n",
       "      <td>99.331062</td>\n",
       "      <td>0.000000</td>\n",
       "      <td>197.742845</td>\n",
       "      <td>135.319052</td>\n",
       "      <td>120.594087</td>\n",
       "      <td>121.955525</td>\n",
       "      <td>207.484073</td>\n",
       "      <td>157.886528</td>\n",
       "      <td>104.524489</td>\n",
       "      <td>...</td>\n",
       "      <td>9.633966</td>\n",
       "      <td>108.671891</td>\n",
       "      <td>263.701235</td>\n",
       "      <td>226.177355</td>\n",
       "      <td>112.167277</td>\n",
       "      <td>98.865025</td>\n",
       "      <td>155.882612</td>\n",
       "      <td>145.392769</td>\n",
       "      <td>104.188325</td>\n",
       "      <td>13.731855</td>\n",
       "    </tr>\n",
       "    <tr>\n",
       "      <th>3</th>\n",
       "      <td>88.494106</td>\n",
       "      <td>98.468991</td>\n",
       "      <td>197.742845</td>\n",
       "      <td>0.000000</td>\n",
       "      <td>91.882841</td>\n",
       "      <td>87.966180</td>\n",
       "      <td>75.849785</td>\n",
       "      <td>21.704469</td>\n",
       "      <td>70.992771</td>\n",
       "      <td>94.466495</td>\n",
       "      <td>...</td>\n",
       "      <td>207.376534</td>\n",
       "      <td>95.768520</td>\n",
       "      <td>93.870425</td>\n",
       "      <td>29.277322</td>\n",
       "      <td>96.263331</td>\n",
       "      <td>103.797362</td>\n",
       "      <td>41.926484</td>\n",
       "      <td>62.278216</td>\n",
       "      <td>96.540126</td>\n",
       "      <td>210.047776</td>\n",
       "    </tr>\n",
       "    <tr>\n",
       "      <th>4</th>\n",
       "      <td>11.224886</td>\n",
       "      <td>57.673426</td>\n",
       "      <td>135.319052</td>\n",
       "      <td>91.882841</td>\n",
       "      <td>0.000000</td>\n",
       "      <td>23.214745</td>\n",
       "      <td>52.196130</td>\n",
       "      <td>89.703631</td>\n",
       "      <td>25.489607</td>\n",
       "      <td>47.802318</td>\n",
       "      <td>...</td>\n",
       "      <td>144.214954</td>\n",
       "      <td>34.014582</td>\n",
       "      <td>183.484584</td>\n",
       "      <td>119.578466</td>\n",
       "      <td>27.336538</td>\n",
       "      <td>42.480021</td>\n",
       "      <td>65.102086</td>\n",
       "      <td>31.853532</td>\n",
       "      <td>42.879860</td>\n",
       "      <td>149.028536</td>\n",
       "    </tr>\n",
       "  </tbody>\n",
       "</table>\n",
       "<p>5 rows × 134 columns</p>\n",
       "</div>"
      ],
      "text/plain": [
       "          0          1           2           3           4           5    \\\n",
       "0    0.000000  46.645956  128.506126   88.494106   11.224886   12.042604   \n",
       "1   46.645956   0.000000   99.331062   98.468991   57.673426   34.648145   \n",
       "2  128.506126  99.331062    0.000000  197.742845  135.319052  120.594087   \n",
       "3   88.494106  98.468991  197.742845    0.000000   91.882841   87.966180   \n",
       "4   11.224886  57.673426  135.319052   91.882841    0.000000   23.214745   \n",
       "\n",
       "          6           7           8           9       ...             124  \\\n",
       "0   41.359815   88.980637   29.442647   36.761357     ...      137.626826   \n",
       "1   22.629025  108.643607   70.177933    9.884984     ...      108.963877   \n",
       "2  121.955525  207.484073  157.886528  104.524489     ...        9.633966   \n",
       "3   75.849785   21.704469   70.992771   94.466495     ...      207.376534   \n",
       "4   52.196130   89.703631   25.489607   47.802318     ...      144.214954   \n",
       "\n",
       "          125         126         127         128         129         130  \\\n",
       "0   23.511761  178.137015  117.031212   17.422608   32.633058   57.710789   \n",
       "1   24.330927  172.152042  127.132898   31.480083   20.026504   56.742367   \n",
       "2  108.671891  263.701235  226.177355  112.167277   98.865025  155.882612   \n",
       "3   95.768520   93.870425   29.277322   96.263331  103.797362   41.926484   \n",
       "4   34.014582  183.484584  119.578466   27.336538   42.480021   65.102086   \n",
       "\n",
       "          131         132         133  \n",
       "0   26.358037   32.099404  142.137114  \n",
       "1   50.641924   15.250641  111.849337  \n",
       "2  145.392769  104.188325   13.731855  \n",
       "3   62.278216   96.540126  210.047776  \n",
       "4   31.853532   42.879860  149.028536  \n",
       "\n",
       "[5 rows x 134 columns]"
      ]
     },
     "execution_count": 7,
     "metadata": {},
     "output_type": "execute_result"
    }
   ],
   "source": [
    "pd.DataFrame(distance).head()"
   ]
  },
  {
   "cell_type": "markdown",
   "metadata": {},
   "source": [
    "## Linear program\n",
    "\n",
    "### Variables \n",
    "\n",
    "$n$ number of stores minus the starting store because that is 0\n",
    "\n",
    "$C_{i,j}$ is the distance between store $i$ and $j$\n",
    "\n",
    "$x_{i,j,k}$ is a variable which indicated whether manager $k$ travels from store $i$ to store $j$ \n",
    "\n",
    "\n",
    "### Objective function \n",
    "$f(x) = \\sum_{i=1}^n \\sum_{j=1}^n  c_{i,j} \\sum_{k=1}^{n - 1} x_{i,j,k}$\n",
    "\n",
    "### Constraints\n",
    "All stores need only to be visited once (excl. depo).\n",
    "\n",
    "$\\sum_{i=0, j \\neq i}^{n} \\sum_{k=0}^{n - 1} x_{i, j, k} = 1 $   &nbsp;&nbsp;&nbsp;&nbsp;&nbsp;&nbsp;&ensp;&ensp;&ensp;&ensp;&ensp;&ensp;&ensp;  $\\forall_j : 1 \\le j \\le n;$\n",
    "\n",
    "$\\sum_{j=0, i \\neq j}^{n} \\sum_{k=0}^{n - 1} x_{i, j, k} = 1 $  &nbsp;&nbsp;&nbsp;&nbsp;&nbsp;&nbsp;&ensp;&ensp;&ensp;&ensp;&ensp;&ensp;&ensp;   $\\forall_i : 1 \\le i \\le n;$\n",
    "\n",
    "Managers should start and stop at store 0\n",
    "\n",
    "$\\sum_{k=0}^{n-1} x_{0, j, k} = 1 $  &nbsp;&nbsp;&nbsp;&nbsp;&nbsp;&nbsp;&ensp;&ensp;&ensp;&ensp;&ensp;&ensp;&nbsp;&nbsp;&ensp;&ensp;&ensp;&ensp;&ensp;&ensp;&ensp;&ensp;   $\\forall_k : 0 \\le k \\le n-1;$\n",
    "\n",
    "$\\sum_{k=0}^{n-1}x_{i, 0, k} = 1 $  &nbsp;&nbsp;&nbsp;&nbsp;&nbsp;&nbsp;&ensp;&ensp;&ensp;&ensp;&ensp;&ensp;&nbsp;&nbsp;&ensp;&ensp;&ensp;&ensp;&ensp;&ensp;&ensp;&ensp;   $\\forall_k : 0 \\le k \\le n-1;$\n",
    "\n",
    "Managers can only travel 400 kilometers a day\n",
    "\n",
    "$\\sum_{i=0, j \\neq i}^n \\sum_{j=0, j \\neq i}^n c_{i,j}x_{i, j, k} \\le 400$ &ensp;&ensp;&ensp; $\\forall_k : 0 \\le k \\le n - 1 $\n",
    "\n",
    "Prevent subloops\n",
    "\n",
    "$u_{i} - u_{j} + nx_{i,j} \\le n - 1$ &nbsp;&nbsp;&nbsp;&nbsp;&nbsp;&nbsp;&ensp;&ensp;&ensp;&ensp;&ensp;&ensp;&ensp; $1 \\le i \\neq j \\le n;$\n",
    "\n",
    "\n",
    "\n",
    "### Avoid non-feasibility\n",
    "\n",
    "$\\sum_{i\\in S} \\sum_{j\\in S^C} x_{i,j} \\leq 1$\n",
    "\n",
    "$0 \\le x_{i, j, k} \\le 1 $ &nbsp;&nbsp;&nbsp;&nbsp;&nbsp;&nbsp;&ensp;&ensp;&ensp;&ensp;&ensp;&ensp;&ensp;&ensp;&ensp;&ensp;&ensp;&ensp;&ensp;&ensp;&ensp;&ensp; $i, j = 1, ..., n.$"
   ]
  },
  {
   "cell_type": "code",
   "execution_count": null,
   "metadata": {},
   "outputs": [],
   "source": []
  },
  {
   "cell_type": "markdown",
   "metadata": {},
   "source": [
    "## Pulp Setup"
   ]
  },
  {
   "cell_type": "code",
   "execution_count": 59,
   "metadata": {},
   "outputs": [],
   "source": [
    "prob = LpProblem(\"VRP\", LpMinimize)\n",
    "prob.writeLP(\"EMTE_VRP_Model.lp\")"
   ]
  },
  {
   "cell_type": "markdown",
   "metadata": {},
   "source": [
    "## Variable Setup"
   ]
  },
  {
   "cell_type": "code",
   "execution_count": 61,
   "metadata": {},
   "outputs": [],
   "source": [
    "n = 10 #len(stores) - 1"
   ]
  },
  {
   "cell_type": "code",
   "execution_count": 62,
   "metadata": {},
   "outputs": [],
   "source": [
    "upperbound = 1\n",
    "lowerbound = 0 \n",
    "\n",
    "x = [[[LpVariable('x_{' +str(i)+', '+str(j)+', '+str(k)+'}', \n",
    "                  lowerbound, upperbound if i == j else 0,\n",
    "                  cat=LpBinary ) \n",
    "       for k in range(n-1)] \n",
    "      for j in range(n)] \n",
    "     for i in range(n)]"
   ]
  },
  {
   "cell_type": "markdown",
   "metadata": {},
   "source": [
    "## Constraints setup"
   ]
  },
  {
   "cell_type": "code",
   "execution_count": 63,
   "metadata": {},
   "outputs": [],
   "source": [
    "# All stores should have one visit\n",
    "for i in range(1, n):\n",
    "    proposition = lpSum([lpSum([x[i][j][k] for k in range(n -1)]) for j in range(n) if j != i]) == 1\n",
    "    identifier = \"Incomming requirement for city {}\".format(i)\n",
    "    prob += proposition, identifier\n",
    "    \n",
    "for j in range(1, n):\n",
    "    proposition = lpSum([lpSum([x[i][j][k] for k in range(n -1)]) for i in range(n) if j != i]) == 1\n",
    "    identifier = \"Outgoing requirement for city {}\".format(j)\n",
    "    prob += proposition, identifier"
   ]
  },
  {
   "cell_type": "code",
   "execution_count": 64,
   "metadata": {},
   "outputs": [],
   "source": [
    "#incomming manager should be the same as outgoing\n",
    "for i in range(1, n):\n",
    "    for k in range(n -1):\n",
    "        proposition = lpSum([x[i][j][k] for j in range(n)]) - lpSum([x[j][i][k] for j in range(n)]) == 0\n",
    "        identifier = \"IO check for city {} for manager {}\".format(i, k)\n",
    "        prob += proposition, identifier"
   ]
  },
  {
   "cell_type": "code",
   "execution_count": 65,
   "metadata": {},
   "outputs": [],
   "source": [
    "#Manager can only travel 400 km per day\n",
    "for k in range(n -1):\n",
    "    proposition = lpSum([lpSum([distance[i][j] * x[i][j][k] for j in range(n)]) for i in range(n)]) <= 400\n",
    "    identifier = \"Max travel distance for manager {}\".format(k)\n",
    "    prob += proposition, identifier"
   ]
  },
  {
   "cell_type": "code",
   "execution_count": 66,
   "metadata": {},
   "outputs": [],
   "source": [
    "#Manager should start and stop at store 0\n",
    "for k in range(n -1):\n",
    "    proposition = lpSum([x[i][0][k] for i in range(n)]) == 1\n",
    "    identifier = \"Manager {} start at 0\".format(k)\n",
    "    prob += proposition, identifier\n",
    "\n",
    "for k in range(n -1):\n",
    "    proposition = lpSum([x[0][j][k] for j in range(n)]) == 1\n",
    "    identifier = \"Manager {} end at 0\".format(k)\n",
    "    prob += proposition, identifier"
   ]
  },
  {
   "cell_type": "code",
   "execution_count": 67,
   "metadata": {},
   "outputs": [],
   "source": [
    "#Prevent sub loops\n",
    "u = []\n",
    "for i in range(n):\n",
    "    u.append(LpVariable('u_' + str(i), cat='Integer'))\n",
    "for i in range(1, n):\n",
    "    for j in range(1, n):\n",
    "        if i != j:\n",
    "            prob += u[i] - u[j] + n*lpSum([x[i][j][k] for k in range(n -1)]) <= n-1"
   ]
  },
  {
   "cell_type": "markdown",
   "metadata": {},
   "source": [
    "## Objective funtion Setup"
   ]
  },
  {
   "cell_type": "code",
   "execution_count": 68,
   "metadata": {},
   "outputs": [],
   "source": [
    "prob += lpSum([lpSum(distance[i, j] * lpSum([x[i][j][k] \n",
    "                                             for k in range(n -1)])\n",
    "                     for j in range(n))\n",
    "               for i in range(n)])"
   ]
  },
  {
   "cell_type": "code",
   "execution_count": null,
   "metadata": {},
   "outputs": [],
   "source": []
  },
  {
   "cell_type": "markdown",
   "metadata": {},
   "source": [
    "## Solve"
   ]
  },
  {
   "cell_type": "code",
   "execution_count": 69,
   "metadata": {},
   "outputs": [
    {
     "ename": "PulpSolverError",
     "evalue": "Pulp: Error while executing C:\\ProgramData\\Anaconda3\\lib\\site-packages\\pulp\\solverdir\\cbc\\win\\64\\cbc.exe",
     "output_type": "error",
     "traceback": [
      "\u001b[1;31m---------------------------------------------------------------------------\u001b[0m",
      "\u001b[1;31mPulpSolverError\u001b[0m                           Traceback (most recent call last)",
      "\u001b[1;32m<ipython-input-69-d5816bbe45f8>\u001b[0m in \u001b[0;36m<module>\u001b[1;34m()\u001b[0m\n\u001b[1;32m----> 1\u001b[1;33m \u001b[0mprob\u001b[0m\u001b[1;33m.\u001b[0m\u001b[0msolve\u001b[0m\u001b[1;33m(\u001b[0m\u001b[1;33m)\u001b[0m\u001b[1;33m\u001b[0m\u001b[0m\n\u001b[0m\u001b[0;32m      2\u001b[0m \u001b[0mprint\u001b[0m\u001b[1;33m(\u001b[0m\u001b[1;34m\"Status:\"\u001b[0m \u001b[1;33m,\u001b[0m \u001b[0mLpStatus\u001b[0m\u001b[1;33m(\u001b[0m\u001b[0mprob\u001b[0m\u001b[1;33m.\u001b[0m\u001b[0mstatus\u001b[0m\u001b[1;33m)\u001b[0m\u001b[1;33m)\u001b[0m\u001b[1;33m\u001b[0m\u001b[0m\n\u001b[0;32m      3\u001b[0m \u001b[1;32mfor\u001b[0m \u001b[0mx\u001b[0m \u001b[1;32min\u001b[0m \u001b[0mlist\u001b[0m\u001b[1;33m(\u001b[0m\u001b[0mmap\u001b[0m\u001b[1;33m(\u001b[0m\u001b[0mstr\u001b[0m\u001b[1;33m,\u001b[0m \u001b[0mfilter\u001b[0m\u001b[1;33m(\u001b[0m\u001b[1;32mlambda\u001b[0m \u001b[0mv\u001b[0m\u001b[1;33m:\u001b[0m \u001b[0mv\u001b[0m\u001b[1;33m,\u001b[0m\u001b[0mvarValue\u001b[0m \u001b[1;33m==\u001b[0m \u001b[1;36m1\u001b[0m\u001b[1;33m,\u001b[0m \u001b[0mprob\u001b[0m\u001b[1;33m.\u001b[0m\u001b[0mvariables\u001b[0m\u001b[1;33m(\u001b[0m\u001b[1;33m)\u001b[0m\u001b[1;33m)\u001b[0m\u001b[1;33m)\u001b[0m\u001b[1;33m)\u001b[0m\u001b[1;33m:\u001b[0m\u001b[1;33m\u001b[0m\u001b[0m\n\u001b[0;32m      4\u001b[0m     \u001b[0mprint\u001b[0m\u001b[1;33m(\u001b[0m\u001b[0mx\u001b[0m\u001b[1;33m)\u001b[0m\u001b[1;33m\u001b[0m\u001b[0m\n\u001b[0;32m      5\u001b[0m \u001b[0mprint\u001b[0m\u001b[1;33m(\u001b[0m\u001b[1;34m\"Total distance traveled = \"\u001b[0m\u001b[1;33m,\u001b[0m \u001b[0mvalue\u001b[0m\u001b[1;33m(\u001b[0m\u001b[0mprob\u001b[0m\u001b[1;33m.\u001b[0m\u001b[0mobjective\u001b[0m\u001b[1;33m)\u001b[0m\u001b[1;33m)\u001b[0m\u001b[1;33m\u001b[0m\u001b[0m\n",
      "\u001b[1;32mC:\\ProgramData\\Anaconda3\\lib\\site-packages\\pulp\\pulp.py\u001b[0m in \u001b[0;36msolve\u001b[1;34m(self, solver, **kwargs)\u001b[0m\n\u001b[0;32m   1662\u001b[0m         \u001b[1;31m#time it\u001b[0m\u001b[1;33m\u001b[0m\u001b[1;33m\u001b[0m\u001b[0m\n\u001b[0;32m   1663\u001b[0m         \u001b[0mself\u001b[0m\u001b[1;33m.\u001b[0m\u001b[0msolutionTime\u001b[0m \u001b[1;33m=\u001b[0m \u001b[1;33m-\u001b[0m\u001b[0mclock\u001b[0m\u001b[1;33m(\u001b[0m\u001b[1;33m)\u001b[0m\u001b[1;33m\u001b[0m\u001b[0m\n\u001b[1;32m-> 1664\u001b[1;33m         \u001b[0mstatus\u001b[0m \u001b[1;33m=\u001b[0m \u001b[0msolver\u001b[0m\u001b[1;33m.\u001b[0m\u001b[0mactualSolve\u001b[0m\u001b[1;33m(\u001b[0m\u001b[0mself\u001b[0m\u001b[1;33m,\u001b[0m \u001b[1;33m**\u001b[0m\u001b[0mkwargs\u001b[0m\u001b[1;33m)\u001b[0m\u001b[1;33m\u001b[0m\u001b[0m\n\u001b[0m\u001b[0;32m   1665\u001b[0m         \u001b[0mself\u001b[0m\u001b[1;33m.\u001b[0m\u001b[0msolutionTime\u001b[0m \u001b[1;33m+=\u001b[0m \u001b[0mclock\u001b[0m\u001b[1;33m(\u001b[0m\u001b[1;33m)\u001b[0m\u001b[1;33m\u001b[0m\u001b[0m\n\u001b[0;32m   1666\u001b[0m         \u001b[0mself\u001b[0m\u001b[1;33m.\u001b[0m\u001b[0mrestoreObjective\u001b[0m\u001b[1;33m(\u001b[0m\u001b[0mwasNone\u001b[0m\u001b[1;33m,\u001b[0m \u001b[0mdummyVar\u001b[0m\u001b[1;33m)\u001b[0m\u001b[1;33m\u001b[0m\u001b[0m\n",
      "\u001b[1;32mC:\\ProgramData\\Anaconda3\\lib\\site-packages\\pulp\\solvers.py\u001b[0m in \u001b[0;36mactualSolve\u001b[1;34m(self, lp, **kwargs)\u001b[0m\n\u001b[0;32m   1360\u001b[0m     \u001b[1;32mdef\u001b[0m \u001b[0mactualSolve\u001b[0m\u001b[1;33m(\u001b[0m\u001b[0mself\u001b[0m\u001b[1;33m,\u001b[0m \u001b[0mlp\u001b[0m\u001b[1;33m,\u001b[0m \u001b[1;33m**\u001b[0m\u001b[0mkwargs\u001b[0m\u001b[1;33m)\u001b[0m\u001b[1;33m:\u001b[0m\u001b[1;33m\u001b[0m\u001b[0m\n\u001b[0;32m   1361\u001b[0m         \u001b[1;34m\"\"\"Solve a well formulated lp problem\"\"\"\u001b[0m\u001b[1;33m\u001b[0m\u001b[0m\n\u001b[1;32m-> 1362\u001b[1;33m         \u001b[1;32mreturn\u001b[0m \u001b[0mself\u001b[0m\u001b[1;33m.\u001b[0m\u001b[0msolve_CBC\u001b[0m\u001b[1;33m(\u001b[0m\u001b[0mlp\u001b[0m\u001b[1;33m,\u001b[0m \u001b[1;33m**\u001b[0m\u001b[0mkwargs\u001b[0m\u001b[1;33m)\u001b[0m\u001b[1;33m\u001b[0m\u001b[0m\n\u001b[0m\u001b[0;32m   1363\u001b[0m \u001b[1;33m\u001b[0m\u001b[0m\n\u001b[0;32m   1364\u001b[0m     \u001b[1;32mdef\u001b[0m \u001b[0mavailable\u001b[0m\u001b[1;33m(\u001b[0m\u001b[0mself\u001b[0m\u001b[1;33m)\u001b[0m\u001b[1;33m:\u001b[0m\u001b[1;33m\u001b[0m\u001b[0m\n",
      "\u001b[1;32mC:\\ProgramData\\Anaconda3\\lib\\site-packages\\pulp\\solvers.py\u001b[0m in \u001b[0;36msolve_CBC\u001b[1;34m(self, lp, use_mps)\u001b[0m\n\u001b[0;32m   1423\u001b[0m                                     self.path)\n\u001b[0;32m   1424\u001b[0m         \u001b[1;32mif\u001b[0m \u001b[1;32mnot\u001b[0m \u001b[0mos\u001b[0m\u001b[1;33m.\u001b[0m\u001b[0mpath\u001b[0m\u001b[1;33m.\u001b[0m\u001b[0mexists\u001b[0m\u001b[1;33m(\u001b[0m\u001b[0mtmpSol\u001b[0m\u001b[1;33m)\u001b[0m\u001b[1;33m:\u001b[0m\u001b[1;33m\u001b[0m\u001b[0m\n\u001b[1;32m-> 1425\u001b[1;33m             \u001b[1;32mraise\u001b[0m \u001b[0mPulpSolverError\u001b[0m\u001b[1;33m(\u001b[0m\u001b[1;34m\"Pulp: Error while executing \"\u001b[0m\u001b[1;33m+\u001b[0m\u001b[0mself\u001b[0m\u001b[1;33m.\u001b[0m\u001b[0mpath\u001b[0m\u001b[1;33m)\u001b[0m\u001b[1;33m\u001b[0m\u001b[0m\n\u001b[0m\u001b[0;32m   1426\u001b[0m         \u001b[1;32mif\u001b[0m \u001b[0muse_mps\u001b[0m\u001b[1;33m:\u001b[0m\u001b[1;33m\u001b[0m\u001b[0m\n\u001b[0;32m   1427\u001b[0m             lp.status, values, reducedCosts, shadowPrices, slacks = self.readsol_MPS(\n",
      "\u001b[1;31mPulpSolverError\u001b[0m: Pulp: Error while executing C:\\ProgramData\\Anaconda3\\lib\\site-packages\\pulp\\solverdir\\cbc\\win\\64\\cbc.exe"
     ]
    }
   ],
   "source": [
    "prob.solve()\n",
    "print(\"Status:\" , LpStatus(prob.status))\n",
    "for x in list(map(str, filter(lambda v: v,varValue == 1, prob.variables()))):\n",
    "    print(x)\n",
    "print(\"Total distance traveled = \", value(prob.objective))"
   ]
  },
  {
   "cell_type": "code",
   "execution_count": 70,
   "metadata": {},
   "outputs": [
    {
     "name": "stdout",
     "output_type": "stream",
     "text": [
      "\t Testing zero subtraction\n",
      "\t Testing inconsistant lp solution\n",
      "\t Testing continuous LP solution\n",
      "\t Testing maximize continuous LP solution\n",
      "\t Testing unbounded continuous LP solution\n",
      "\t Testing Long Names\n",
      "\t Testing repeated Names\n",
      "\t Testing zero constraint\n",
      "\t Testing zero objective\n",
      "\t Testing LpVariable (not LpAffineExpression) objective\n",
      "\t Testing Long lines in LP\n",
      "\t Testing LpAffineExpression divide\n",
      "\t Testing MIP solution\n",
      "\t Testing MIP solution with floats in objective\n",
      "\t Testing MIP relaxation\n",
      "\t Testing feasibility problem (no objective)\n",
      "\t Testing an infeasible problem\n",
      "\t Testing an integer infeasible problem\n",
      "\t Testing column based modelling\n",
      "\t Testing dual variables and slacks reporting\n",
      "\t Testing fractional constraints\n",
      "\t Testing elastic constraints (no change)\n",
      "\t Testing elastic constraints (freebound)\n",
      "\t Testing elastic constraints (penalty unchanged)\n",
      "\t Testing elastic constraints (penalty unbounded)\n",
      "* Solver <class 'pulp.solvers.PULP_CBC_CMD'> passed.\n",
      "Solver <class 'pulp.solvers.CPLEX_DLL'> unavailable\n",
      "Solver <class 'pulp.solvers.CPLEX_CMD'> unavailable\n",
      "Solver <class 'pulp.solvers.CPLEX_PY'> unavailable\n",
      "Solver <class 'pulp.solvers.COIN_CMD'> unavailable\n",
      "Solver <class 'pulp.solvers.COINMP_DLL'> unavailable\n",
      "Solver <class 'pulp.solvers.GLPK_CMD'> unavailable\n",
      "Solver <class 'pulp.solvers.XPRESS'> unavailable\n",
      "Solver <class 'pulp.solvers.GUROBI'> unavailable\n",
      "Solver <class 'pulp.solvers.GUROBI_CMD'> unavailable\n",
      "Solver <class 'pulp.solvers.PYGLPK'> unavailable\n",
      "Solver <class 'pulp.solvers.YAPOSIB'> unavailable\n"
     ]
    }
   ],
   "source": [
    "pulp.pulpTestAll()"
   ]
  }
 ],
 "metadata": {
  "kernelspec": {
   "display_name": "Python 3",
   "language": "python",
   "name": "python3"
  },
  "language_info": {
   "codemirror_mode": {
    "name": "ipython",
    "version": 3
   },
   "file_extension": ".py",
   "mimetype": "text/x-python",
   "name": "python",
   "nbconvert_exporter": "python",
   "pygments_lexer": "ipython3",
   "version": "3.6.4"
  }
 },
 "nbformat": 4,
 "nbformat_minor": 2
}
